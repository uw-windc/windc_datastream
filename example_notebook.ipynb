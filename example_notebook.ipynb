{
 "cells": [
  {
   "cell_type": "code",
   "execution_count": 2,
   "metadata": {},
   "outputs": [],
   "source": [
    "import gams.transfer as gt\n",
    "import pandas as pd\n",
    "import windc_data as wd\n",
    "\n",
    "\n",
    "datasets = {\n",
    "    ## National Model\n",
    "    \"bea_supply\" : wd.BeaSupply,\n",
    "    \"bea_use\" : wd.BeaUse,\n",
    "    \n",
    "    ## State model\n",
    "    #\"bea_gsp\":wd.BeaGsp,\n",
    "    #\"bea_pce\":wd.BeaPce,\n",
    "    #\"census_sgf\" : wd.CensusSGF,\n",
    "    #\"cfs\" : wd.CFS,\n",
    "    #\"state_exim\" : wd.StateExIm,\n",
    "\n",
    "\n",
    "    #\"eia_emissions\" : wd.EiaEmissions,\n",
    "    #\"eia_heatrate\" : wd.EiaHeatrate,\n",
    "    #\"eia_seds\" : wd.EiaSeds,\n",
    "\n",
    "    #\"bea_supply_det\":wd.BeaSupplyDet,\n",
    "    #\"bea_use_det\" : wd.BeaUseDet,\n",
    "\n",
    "\n",
    "    #\"eia_crude_price\" : wd.EiaCrude,\n",
    "    #\"nass\" : wd.Nass,\n",
    "    }\n",
    "\n",
    "data_dir = r\"C:\\Users\\mphillipson\\Documents\\WiNDC\\windc_raw_data\\windc_3_0_0\"\n",
    "\n",
    "\n",
    "w1 = wd.WindcEnvironment(data_dir,\n",
    "                         load = datasets,\n",
    "                         verbose = False)"
   ]
  },
  {
   "cell_type": "code",
   "execution_count": 8,
   "metadata": {},
   "outputs": [
    {
     "data": {
      "text/plain": [
       "dict_keys(['r', 'sr', 'i', 'fd', 'ts', 'va', 'i_det', 'sector_map', 'seds_src', 'yr', 'version', 'ir_supply', 'jc_supply', 'supply_units', 'ir_use', 'jc_use', 'use_units'])"
      ]
     },
     "execution_count": 8,
     "metadata": {},
     "output_type": "execute_result"
    }
   ],
   "source": [
    "w1.keys()"
   ]
  },
  {
   "cell_type": "code",
   "execution_count": 10,
   "metadata": {},
   "outputs": [
    {
     "data": {
      "text/html": [
       "<div>\n",
       "<style scoped>\n",
       "    .dataframe tbody tr th:only-of-type {\n",
       "        vertical-align: middle;\n",
       "    }\n",
       "\n",
       "    .dataframe tbody tr th {\n",
       "        vertical-align: top;\n",
       "    }\n",
       "\n",
       "    .dataframe thead th {\n",
       "        text-align: right;\n",
       "    }\n",
       "</style>\n",
       "<table border=\"1\" class=\"dataframe\">\n",
       "  <thead>\n",
       "    <tr style=\"text-align: right;\">\n",
       "      <th></th>\n",
       "      <th>yr</th>\n",
       "      <th>ir_supply</th>\n",
       "      <th>jc_supply</th>\n",
       "      <th>units</th>\n",
       "      <th>value</th>\n",
       "    </tr>\n",
       "  </thead>\n",
       "  <tbody>\n",
       "    <tr>\n",
       "      <th>0</th>\n",
       "      <td>1997</td>\n",
       "      <td>agr</td>\n",
       "      <td>agr</td>\n",
       "      <td>millions of us dollars (USD)</td>\n",
       "      <td>219681.0</td>\n",
       "    </tr>\n",
       "    <tr>\n",
       "      <th>1</th>\n",
       "      <td>1998</td>\n",
       "      <td>agr</td>\n",
       "      <td>agr</td>\n",
       "      <td>millions of us dollars (USD)</td>\n",
       "      <td>212036.0</td>\n",
       "    </tr>\n",
       "    <tr>\n",
       "      <th>2</th>\n",
       "      <td>1999</td>\n",
       "      <td>agr</td>\n",
       "      <td>agr</td>\n",
       "      <td>millions of us dollars (USD)</td>\n",
       "      <td>212534.0</td>\n",
       "    </tr>\n",
       "    <tr>\n",
       "      <th>3</th>\n",
       "      <td>2000</td>\n",
       "      <td>agr</td>\n",
       "      <td>agr</td>\n",
       "      <td>millions of us dollars (USD)</td>\n",
       "      <td>219834.0</td>\n",
       "    </tr>\n",
       "    <tr>\n",
       "      <th>4</th>\n",
       "      <td>2001</td>\n",
       "      <td>agr</td>\n",
       "      <td>agr</td>\n",
       "      <td>millions of us dollars (USD)</td>\n",
       "      <td>227920.0</td>\n",
       "    </tr>\n",
       "    <tr>\n",
       "      <th>...</th>\n",
       "      <td>...</td>\n",
       "      <td>...</td>\n",
       "      <td>...</td>\n",
       "      <td>...</td>\n",
       "      <td>...</td>\n",
       "    </tr>\n",
       "    <tr>\n",
       "      <th>34846</th>\n",
       "      <td>2016</td>\n",
       "      <td>oth</td>\n",
       "      <td>ciffob</td>\n",
       "      <td>millions of us dollars (USD)</td>\n",
       "      <td>-22.0</td>\n",
       "    </tr>\n",
       "    <tr>\n",
       "      <th>34847</th>\n",
       "      <td>2017</td>\n",
       "      <td>oth</td>\n",
       "      <td>ciffob</td>\n",
       "      <td>millions of us dollars (USD)</td>\n",
       "      <td>-26.0</td>\n",
       "    </tr>\n",
       "    <tr>\n",
       "      <th>34848</th>\n",
       "      <td>2018</td>\n",
       "      <td>oth</td>\n",
       "      <td>ciffob</td>\n",
       "      <td>millions of us dollars (USD)</td>\n",
       "      <td>-41.0</td>\n",
       "    </tr>\n",
       "    <tr>\n",
       "      <th>34849</th>\n",
       "      <td>2019</td>\n",
       "      <td>oth</td>\n",
       "      <td>ciffob</td>\n",
       "      <td>millions of us dollars (USD)</td>\n",
       "      <td>-48.0</td>\n",
       "    </tr>\n",
       "    <tr>\n",
       "      <th>34850</th>\n",
       "      <td>2020</td>\n",
       "      <td>oth</td>\n",
       "      <td>ciffob</td>\n",
       "      <td>millions of us dollars (USD)</td>\n",
       "      <td>-53.0</td>\n",
       "    </tr>\n",
       "  </tbody>\n",
       "</table>\n",
       "<p>34851 rows × 5 columns</p>\n",
       "</div>"
      ],
      "text/plain": [
       "         yr ir_supply jc_supply                         units     value\n",
       "0      1997       agr       agr  millions of us dollars (USD)  219681.0\n",
       "1      1998       agr       agr  millions of us dollars (USD)  212036.0\n",
       "2      1999       agr       agr  millions of us dollars (USD)  212534.0\n",
       "3      2000       agr       agr  millions of us dollars (USD)  219834.0\n",
       "4      2001       agr       agr  millions of us dollars (USD)  227920.0\n",
       "...     ...       ...       ...                           ...       ...\n",
       "34846  2016       oth    ciffob  millions of us dollars (USD)     -22.0\n",
       "34847  2017       oth    ciffob  millions of us dollars (USD)     -26.0\n",
       "34848  2018       oth    ciffob  millions of us dollars (USD)     -41.0\n",
       "34849  2019       oth    ciffob  millions of us dollars (USD)     -48.0\n",
       "34850  2020       oth    ciffob  millions of us dollars (USD)     -53.0\n",
       "\n",
       "[34851 rows x 5 columns]"
      ]
     },
     "execution_count": 10,
     "metadata": {},
     "output_type": "execute_result"
    }
   ],
   "source": [
    "w1[\"supply_units\"]"
   ]
  },
  {
   "cell_type": "code",
   "execution_count": 4,
   "metadata": {},
   "outputs": [
    {
     "name": "stdout",
     "output_type": "stream",
     "text": [
      "key\n",
      "key\n",
      "key\n",
      "key\n",
      "key\n",
      "key\n",
      "key\n",
      "key\n",
      "key\n",
      "key\n",
      "key\n",
      "key\n",
      "key\n",
      "key\n"
     ]
    }
   ],
   "source": [
    "#w1.to_gdx(r\"C:\\Users\\mphillipson\\Documents\\WiNDC\\buildstream_julia\\base_data\",\"windc_data_2020.gdx\")"
   ]
  },
  {
   "cell_type": "code",
   "execution_count": 2,
   "metadata": {},
   "outputs": [
    {
     "data": {
      "text/plain": [
       "dict_keys(['r', 'sr', 'i', 'fd', 'ts', 'va', 'i_det', 'sector_map', 'seds_src', 'yr', 'version', 'ec', 'sgf_units', 'n', 'cfsdata_st_units', 'n_usa', 't', 'usatrd_units', 'co2dim', 'emissions_units', 'heatrate_units', 'source', 'sector', 'seds_units', 'ir_supply_det', 'jc_supply_det', 'supply_det_units', 'ir_use_det', 'jc_use_det', 'use_det_units', 'crude_oil_price_units', 'nass_naics', 'nass_units'])"
      ]
     },
     "execution_count": 2,
     "metadata": {},
     "output_type": "execute_result"
    }
   ],
   "source": [
    "w1.keys()"
   ]
  },
  {
   "cell_type": "code",
   "execution_count": 12,
   "metadata": {},
   "outputs": [
    {
     "data": {
      "text/plain": [
       "[<GAMS Transfer Set `yr` (0x1a3d81133d0)>,\n",
       " <GAMS Transfer Set `ir_supply` (0x1a3d8113070)>,\n",
       " <GAMS Transfer Set `jc_supply` (0x1a3d8113040)>,\n",
       " '*']"
      ]
     },
     "execution_count": 12,
     "metadata": {},
     "output_type": "execute_result"
    }
   ],
   "source": [
    "w[\"supply_units\"].domain"
   ]
  }
 ],
 "metadata": {
  "kernelspec": {
   "display_name": "gams42",
   "language": "python",
   "name": "python3"
  },
  "language_info": {
   "codemirror_mode": {
    "name": "ipython",
    "version": 3
   },
   "file_extension": ".py",
   "mimetype": "text/x-python",
   "name": "python",
   "nbconvert_exporter": "python",
   "pygments_lexer": "ipython3",
   "version": "3.10.9"
  },
  "orig_nbformat": 4,
  "vscode": {
   "interpreter": {
    "hash": "c33847ed9762bf021579bdc98d0a0e4bf813e305bdba2aa201ef16fe84a27bb7"
   }
  }
 },
 "nbformat": 4,
 "nbformat_minor": 2
}
