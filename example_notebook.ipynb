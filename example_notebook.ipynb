{
 "cells": [
  {
   "cell_type": "code",
   "execution_count": 3,
   "metadata": {},
   "outputs": [],
   "source": [
    "import gams.transfer as gt\n",
    "import pandas as pd\n",
    "import windc_data as wd\n",
    "\n",
    "\n",
    "datasets = {\n",
    "    ## National Model\n",
    "    \"bea_supply\" : wd.BeaSupply,\n",
    "    \"bea_use\" : wd.BeaUse,\n",
    "    \n",
    "    ## State model\n",
    "    \"bea_gsp\":wd.BeaGsp,\n",
    "    \"bea_pce\":wd.BeaPce,\n",
    "    \"census_sgf\" : wd.CensusSGF,\n",
    "    \"cfs\" : wd.CFS,\n",
    "    \"state_exim\" : wd.StateExIm,\n",
    "\n",
    "\n",
    "    \"eia_emissions\" : wd.EiaEmissions,\n",
    "    \"eia_heatrate\" : wd.EiaHeatrate,\n",
    "    \"eia_seds\" : wd.EiaSeds,\n",
    "\n",
    "    \"bea_supply_det\":wd.BeaSupplyDet,\n",
    "    \"bea_use_det\" : wd.BeaUseDet,\n",
    "\n",
    "\n",
    "    \"eia_crude_price\" : wd.EiaCrude,\n",
    "    \"nass\" : wd.Nass,\n",
    "    }\n",
    "\n",
    "data_dir = r\"C:\\Users\\mphillipson\\Documents\\WiNDC\\windc_raw_data\\windc_3_0_0\"\n",
    "\n",
    "\n",
    "w1 = wd.WindcEnvironment(data_dir,\n",
    "                         load = datasets,\n",
    "                         verbose = False)"
   ]
  },
  {
   "cell_type": "code",
   "execution_count": 4,
   "metadata": {},
   "outputs": [
    {
     "name": "stdout",
     "output_type": "stream",
     "text": [
      "key\n",
      "key\n",
      "key\n",
      "key\n",
      "key\n",
      "key\n",
      "key\n",
      "key\n",
      "key\n",
      "key\n",
      "key\n",
      "key\n",
      "key\n",
      "key\n"
     ]
    }
   ],
   "source": [
    "w1.to_gdx(r\"C:\\Users\\mphillipson\\Documents\\WiNDC\\buildstream_julia\\base_data\",\"windc_data_2020.gdx\")"
   ]
  },
  {
   "cell_type": "code",
   "execution_count": 2,
   "metadata": {},
   "outputs": [
    {
     "data": {
      "text/plain": [
       "dict_keys(['r', 'sr', 'i', 'fd', 'ts', 'va', 'i_det', 'sector_map', 'seds_src', 'yr', 'version', 'ec', 'sgf_units', 'n', 'cfsdata_st_units', 'n_usa', 't', 'usatrd_units', 'co2dim', 'emissions_units', 'heatrate_units', 'source', 'sector', 'seds_units', 'ir_supply_det', 'jc_supply_det', 'supply_det_units', 'ir_use_det', 'jc_use_det', 'use_det_units', 'crude_oil_price_units', 'nass_naics', 'nass_units'])"
      ]
     },
     "execution_count": 2,
     "metadata": {},
     "output_type": "execute_result"
    }
   ],
   "source": [
    "w1.keys()"
   ]
  },
  {
   "cell_type": "code",
   "execution_count": 12,
   "metadata": {},
   "outputs": [
    {
     "data": {
      "text/plain": [
       "[<GAMS Transfer Set `yr` (0x1a3d81133d0)>,\n",
       " <GAMS Transfer Set `ir_supply` (0x1a3d8113070)>,\n",
       " <GAMS Transfer Set `jc_supply` (0x1a3d8113040)>,\n",
       " '*']"
      ]
     },
     "execution_count": 12,
     "metadata": {},
     "output_type": "execute_result"
    }
   ],
   "source": [
    "w[\"supply_units\"].domain"
   ]
  }
 ],
 "metadata": {
  "kernelspec": {
   "display_name": "gams42",
   "language": "python",
   "name": "python3"
  },
  "language_info": {
   "codemirror_mode": {
    "name": "ipython",
    "version": 3
   },
   "file_extension": ".py",
   "mimetype": "text/x-python",
   "name": "python",
   "nbconvert_exporter": "python",
   "pygments_lexer": "ipython3",
   "version": "3.10.9"
  },
  "orig_nbformat": 4,
  "vscode": {
   "interpreter": {
    "hash": "c33847ed9762bf021579bdc98d0a0e4bf813e305bdba2aa201ef16fe84a27bb7"
   }
  }
 },
 "nbformat": 4,
 "nbformat_minor": 2
}
