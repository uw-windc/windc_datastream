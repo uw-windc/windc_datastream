{
 "cells": [
  {
   "cell_type": "code",
   "execution_count": null,
   "metadata": {},
   "outputs": [],
   "source": [
    "import loader"
   ]
  },
  {
   "cell_type": "code",
   "execution_count": null,
   "metadata": {},
   "outputs": [],
   "source": [
    "datasets = {\n",
    "    \"bea_gsp\":pr.BeaGsp,\n",
    "    #\"bea_pce\":pr.BeaPce,\n",
    "    #\"bea_supply_det\":pr.BeaSupplyDet,\n",
    "    #\"bea_supply\" : pr.BeaSupply,\n",
    "    #\"bea_use_det\" : pr.BeaUseDet,\n",
    "    #\"bea_use\" : pr.BeaUse,\n",
    "    #\"census_sgf\" : pr.CensusSGF,\n",
    "    #\"cfs\" : pr.CFS,\n",
    "    #\"eia_crude_price\" : pr.EiaCrude,\n",
    "    #\"eia_emissions\" : pr.EiaEmissions,\n",
    "    #\"eia_heatrate\" : pr.EiaHeatrate,\n",
    "    #\"eia_seds\" : pr.EiaSeds,\n",
    "    #\"nass\" : pr.Nass,\n",
    "    #\"state_exim\" : pr.StateExIm,\n",
    "    }"
   ]
  }
 ],
 "metadata": {
  "kernelspec": {
   "display_name": "gams41",
   "language": "python",
   "name": "python3"
  },
  "language_info": {
   "name": "python",
   "version": "3.9.13 (main, Oct 13 2022, 21:23:06) [MSC v.1916 64 bit (AMD64)]"
  },
  "orig_nbformat": 4,
  "vscode": {
   "interpreter": {
    "hash": "2d8148a8a31ef43057a38d74919842836b9e63bf1d1d4aa18fbf63959bc65a17"
   }
  }
 },
 "nbformat": 4,
 "nbformat_minor": 2
}
