{
 "cells": [
  {
   "cell_type": "code",
   "execution_count": 1,
   "metadata": {},
   "outputs": [],
   "source": [
    "import windc_data as wd"
   ]
  },
  {
   "cell_type": "code",
   "execution_count": 2,
   "metadata": {},
   "outputs": [],
   "source": [
    "datasets = {\n",
    "    \"bea_gsp\":wd.BeaGsp,\n",
    "    \"bea_pce\":wd.BeaPce,\n",
    "    \"bea_supply_det\":wd.BeaSupplyDet,\n",
    "    \"bea_supply\" : wd.BeaSupply,\n",
    "    \"bea_use_det\" : wd.BeaUseDet,\n",
    "    \"bea_use\" : wd.BeaUse,\n",
    "    \"census_sgf\" : wd.CensusSGF,\n",
    "    \"state_exim\" : wd.StateExIm,\n",
    "    \"faf\":wd.FAF,\n",
    "    \"usda_time_series\":wd.USDATimeSeries,\n",
    "    \n",
    "    \n",
    "    #\"cfs\" : wd.CFS,\n",
    "    #\"eia_crude_price\" : wd.EiaCrude,\n",
    "    #\"eia_emissions\" : wd.EiaEmissions,\n",
    "    #\"eia_heatrate\" : wd.EiaHeatrate,\n",
    "    #\"eia_seds\" : wd.EiaSeds,\n",
    "    #\"nass\" : wd.Nass,\n",
    "    #\"emission_rate\":wd.EmissionRate\n",
    "    }\n"
   ]
  },
  {
   "cell_type": "code",
   "execution_count": 3,
   "metadata": {},
   "outputs": [],
   "source": [
    "data_dir = r\"C:\\Users\\mphillipson\\Documents\\WiNDC\\windc_raw_data\\windc_2023\"\n",
    "\n",
    "w1 = wd.WindcEnvironment(data_dir,\n",
    "                         load = datasets,\n",
    "                         verbose = False,\n",
    "                         years = (1997,2023)\n",
    "                        )"
   ]
  },
  {
   "cell_type": "code",
   "execution_count": 4,
   "metadata": {},
   "outputs": [],
   "source": [
    "w1.to_gdx(r\"C:\\Users\\mphillipson\\Documents\\WiNDC\",output_name = \"windc_base_2023.gdx\")\n",
    "\n",
    "#w1.to_gdx(r\"C:\\Users\\mphillipson\\Documents\\WiNDC\\buildstream_julia\\base_data\")"
   ]
  },
  {
   "cell_type": "code",
   "execution_count": null,
   "metadata": {},
   "outputs": [],
   "source": []
  }
 ],
 "metadata": {
  "kernelspec": {
   "display_name": "gams44",
   "language": "python",
   "name": "python3"
  },
  "language_info": {
   "codemirror_mode": {
    "name": "ipython",
    "version": 3
   },
   "file_extension": ".py",
   "mimetype": "text/x-python",
   "name": "python",
   "nbconvert_exporter": "python",
   "pygments_lexer": "ipython3",
   "version": "3.9.17"
  },
  "orig_nbformat": 4
 },
 "nbformat": 4,
 "nbformat_minor": 2
}
