{
 "cells": [
  {
   "cell_type": "code",
   "execution_count": 1,
   "metadata": {},
   "outputs": [],
   "source": [
    "import windc_data as wd"
   ]
  },
  {
   "cell_type": "code",
   "execution_count": 4,
   "metadata": {},
   "outputs": [],
   "source": [
    "datasets = {\n",
    "    \"bea_gsp\":wd.BeaGsp,\n",
    "    \"bea_pce\":wd.BeaPce,\n",
    "    \"bea_supply_det\":wd.BeaSupplyDet,\n",
    "    \"bea_supply\" : wd.BeaSupply,\n",
    "    \"bea_use_det\" : wd.BeaUseDet,\n",
    "    \"bea_use\" : wd.BeaUse,\n",
    "    \"census_sgf\" : wd.CensusSGF,\n",
    "    \"state_exim\" : wd.StateExIm,\n",
    "    \"faf\":wd.FAF,\n",
    "    \"usda_time_series\":wd.USDATimeSeries,\n",
    "    \n",
    "    \n",
    "    #\"cfs\" : wd.CFS,\n",
    "    #\"eia_crude_price\" : wd.EiaCrude,\n",
    "    #\"eia_emissions\" : wd.EiaEmissions,\n",
    "    #\"eia_heatrate\" : wd.EiaHeatrate,\n",
    "    #\"eia_seds\" : wd.EiaSeds,\n",
    "    #\"nass\" : wd.Nass,\n",
    "    #\"emission_rate\":wd.EmissionRate\n",
    "    }\n"
   ]
  },
  {
   "cell_type": "code",
   "execution_count": 5,
   "metadata": {},
   "outputs": [
    {
     "name": "stderr",
     "output_type": "stream",
     "text": [
      "c:\\Users\\Mitch\\Documents\\WiNDC\\windc_datastream\\windc_data\\parse\\faf_data.py:37: FutureWarning: The provided callable <built-in function sum> is currently using SeriesGroupBy.sum. In a future version of pandas, the provided callable will be used directly. To keep current behavior pass the string \"sum\" instead.\n",
      "  .agg({\"value\":sum})\n",
      "c:\\Users\\Mitch\\Documents\\WiNDC\\windc_datastream\\windc_data\\parse\\faf_data.py:60: FutureWarning: The provided callable <built-in function sum> is currently using SeriesGroupBy.sum. In a future version of pandas, the provided callable will be used directly. To keep current behavior pass the string \"sum\" instead.\n",
      "  .agg({\"value\":sum})\n"
     ]
    }
   ],
   "source": [
    "data_dir = r\"C:\\Users\\Mitch\\Documents\\WiNDC\\windc_raw_data\\windc_2023_updated_faf\"\n",
    "\n",
    "w1 = wd.WindcEnvironment(data_dir,\n",
    "                         load = datasets,\n",
    "                         verbose = False,\n",
    "                         years = (1997,2023)\n",
    "                        )"
   ]
  },
  {
   "cell_type": "code",
   "execution_count": 6,
   "metadata": {},
   "outputs": [
    {
     "name": "stderr",
     "output_type": "stream",
     "text": [
      "c:\\Users\\Mitch\\anaconda3\\envs\\gamstransfer\\Lib\\site-packages\\gams\\transfer\\containers\\_container.py:73: UserWarning: The GAMS version (50.1.0) differs from the API version (49.5.0).\n",
      "  ws = GamsWorkspace()\n"
     ]
    }
   ],
   "source": [
    "w1.to_gdx(r\"C:\\Users\\Mitch\\Documents\\WiNDC\",output_name = \"windc_base_2023.gdx\")\n",
    "\n",
    "#w1.to_gdx(r\"C:\\Users\\mphillipson\\Documents\\WiNDC\\buildstream_julia\\base_data\")"
   ]
  },
  {
   "cell_type": "code",
   "execution_count": null,
   "metadata": {},
   "outputs": [],
   "source": []
  }
 ],
 "metadata": {
  "kernelspec": {
   "display_name": "gamstransfer",
   "language": "python",
   "name": "python3"
  },
  "language_info": {
   "codemirror_mode": {
    "name": "ipython",
    "version": 3
   },
   "file_extension": ".py",
   "mimetype": "text/x-python",
   "name": "python",
   "nbconvert_exporter": "python",
   "pygments_lexer": "ipython3",
   "version": "3.13.2"
  },
  "orig_nbformat": 4
 },
 "nbformat": 4,
 "nbformat_minor": 2
}
